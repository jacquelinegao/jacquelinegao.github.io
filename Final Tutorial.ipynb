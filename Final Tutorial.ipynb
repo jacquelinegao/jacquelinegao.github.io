{
 "cells": [
  {
   "cell_type": "markdown",
   "metadata": {},
   "source": [
    "<h1><center>Determinants of a Mobile Strategy Game's Success</center></h1>\n",
    "<body><center>Anna Carandang, Jacqueline Gao, and Mahreen Haider</center></body>"
   ]
  },
  {
   "cell_type": "markdown",
   "metadata": {},
   "source": [
    "# Table of Contents\n",
    "1. Introduction\n",
    "2. Data Collection\n",
    "3. Data Processing\n",
    "4. Exploratory Analysis and Data Visualization\n",
    "5. Analysis, Hypothesis Testing, and Machine Learning\n",
    "6. Insight and Policy Decision"
   ]
  },
  {
   "cell_type": "markdown",
   "metadata": {},
   "source": [
    "# 1. Introduction\n",
    "\n",
    "[Background]\n",
    "\n",
    "\n",
    "The global mobile gaming market is thriving with various companies investing vast amounts of money on the development of these games. In this tutorial, we will examine numerous factors to see if they are a measure of a mobile strategy game's success. The dataset we will be using is the data of 17007 strategy games on the Apple App Store collected from [Kaggle](https://www.kaggle.com/tristan581/17k-apple-app-store-strategy-games). For the purposes of this tutorial, we will associate success with the average user rating and number of ratings. As we do so, we will examine if any value is correlated with the average rating and number of user ratings. Using the findings of this tutorial, one will be able to understand what factors play a key role in the success of mobile games.\n",
    "\n",
    "Possible reading material: https://espeo.eu/blog/best-ways-to-measure-mobile-app-success/"
   ]
  },
  {
   "cell_type": "markdown",
   "metadata": {},
   "source": [
    "# 2. Data Collection\n",
    "\n",
    "This step of the data life cycle focuses on gathering data from different sources, such as websites or files. We start by importing the required tools and libraries. Additional information on how to upgrade from pip to pip3 and use it to install the required packages can be found [here](https://help.dreamhost.com/hc/en-us/articles/115000699011-Using-pip3-to-install-Python3-modules). We will use Python 3 for this data anaysis along with some libraries such as [pandas](https://pandas.pydata.org/pandas-docs/stable/),[numpy](https://docs.scipy.org/doc/numpy/user/),[scikit-learn](https://scikit-learn.org/stable/index.html),[matplotlib](https://matplotlib.org/contents.html), etc. We're using pip3 because it is used to install packages for Python 3, which is used in this tutorial.\n",
    "\n",
    "### TODO: add more information\n",
    "Additional reading (2. Data Mining): https://towardsdatascience.com/data-science-life-cycle-101-for-dummies-like-me-e66b47ad8d8f"
   ]
  },
  {
   "cell_type": "code",
   "execution_count": 1,
   "metadata": {},
   "outputs": [],
   "source": [
    "# Imports required tools and libraries\n",
    "from sklearn import linear_model\n",
    "from sklearn import model_selection\n",
    "from sklearn import preprocessing\n",
    "import matplotlib.pyplot as plt\n",
    "import numpy as np\n",
    "import pandas as pd\n",
    "import seaborn as sns"
   ]
  },
  {
   "cell_type": "markdown",
   "metadata": {},
   "source": [
    "## Dataset Source\n",
    "\n",
    "Here, we utilize the [read_csv](https://pandas.pydata.org/pandas-docs/stable/reference/api/pandas.read_csv.html) function to read the CSV (comma-separated values) file obtained from [Kaggle](https://www.kaggle.com/tristan581/17k-apple-app-store-strategy-games). The dataset contains details about mobile games including factors like player age, price, average user ratings, lauages, etc. We will place the data into a DataFrame called games for later processing and analysis. We print out the first few rows of the resulting DataFrame to keep it simple.\n",
    "\n",
    "The dataset may be updated in the future, so if you're interested, you can obtain the version of the dataset that we have used [here](https://github.com/jacquelinegao/jacquelinegao.github.io/blob/master/appstore_games.csv).\n",
    "\n",
    "Special thanks to tristan581 for providing us with the data! "
   ]
  },
  {
   "cell_type": "code",
   "execution_count": 2,
   "metadata": {},
   "outputs": [
    {
     "data": {
      "text/html": [
       "<div>\n",
       "<style scoped>\n",
       "    .dataframe tbody tr th:only-of-type {\n",
       "        vertical-align: middle;\n",
       "    }\n",
       "\n",
       "    .dataframe tbody tr th {\n",
       "        vertical-align: top;\n",
       "    }\n",
       "\n",
       "    .dataframe thead th {\n",
       "        text-align: right;\n",
       "    }\n",
       "</style>\n",
       "<table border=\"1\" class=\"dataframe\">\n",
       "  <thead>\n",
       "    <tr style=\"text-align: right;\">\n",
       "      <th></th>\n",
       "      <th>URL</th>\n",
       "      <th>ID</th>\n",
       "      <th>Name</th>\n",
       "      <th>Subtitle</th>\n",
       "      <th>Icon URL</th>\n",
       "      <th>Average User Rating</th>\n",
       "      <th>User Rating Count</th>\n",
       "      <th>Price</th>\n",
       "      <th>In-app Purchases</th>\n",
       "      <th>Description</th>\n",
       "      <th>Developer</th>\n",
       "      <th>Age Rating</th>\n",
       "      <th>Languages</th>\n",
       "      <th>Size</th>\n",
       "      <th>Primary Genre</th>\n",
       "      <th>Genres</th>\n",
       "      <th>Original Release Date</th>\n",
       "      <th>Current Version Release Date</th>\n",
       "    </tr>\n",
       "  </thead>\n",
       "  <tbody>\n",
       "    <tr>\n",
       "      <td>0</td>\n",
       "      <td>https://apps.apple.com/us/app/sudoku/id284921427</td>\n",
       "      <td>284921427</td>\n",
       "      <td>Sudoku</td>\n",
       "      <td>NaN</td>\n",
       "      <td>https://is2-ssl.mzstatic.com/image/thumb/Purpl...</td>\n",
       "      <td>4.0</td>\n",
       "      <td>3553.0</td>\n",
       "      <td>2.99</td>\n",
       "      <td>NaN</td>\n",
       "      <td>Join over 21,000,000 of our fans and download ...</td>\n",
       "      <td>Mighty Mighty Good Games</td>\n",
       "      <td>4+</td>\n",
       "      <td>DA, NL, EN, FI, FR, DE, IT, JA, KO, NB, PL, PT...</td>\n",
       "      <td>15853568.0</td>\n",
       "      <td>Games</td>\n",
       "      <td>Games, Strategy, Puzzle</td>\n",
       "      <td>11/07/2008</td>\n",
       "      <td>30/05/2017</td>\n",
       "    </tr>\n",
       "    <tr>\n",
       "      <td>1</td>\n",
       "      <td>https://apps.apple.com/us/app/reversi/id284926400</td>\n",
       "      <td>284926400</td>\n",
       "      <td>Reversi</td>\n",
       "      <td>NaN</td>\n",
       "      <td>https://is4-ssl.mzstatic.com/image/thumb/Purpl...</td>\n",
       "      <td>3.5</td>\n",
       "      <td>284.0</td>\n",
       "      <td>1.99</td>\n",
       "      <td>NaN</td>\n",
       "      <td>The classic game of Reversi, also known as Oth...</td>\n",
       "      <td>Kiss The Machine</td>\n",
       "      <td>4+</td>\n",
       "      <td>EN</td>\n",
       "      <td>12328960.0</td>\n",
       "      <td>Games</td>\n",
       "      <td>Games, Strategy, Board</td>\n",
       "      <td>11/07/2008</td>\n",
       "      <td>17/05/2018</td>\n",
       "    </tr>\n",
       "    <tr>\n",
       "      <td>2</td>\n",
       "      <td>https://apps.apple.com/us/app/morocco/id284946595</td>\n",
       "      <td>284946595</td>\n",
       "      <td>Morocco</td>\n",
       "      <td>NaN</td>\n",
       "      <td>https://is5-ssl.mzstatic.com/image/thumb/Purpl...</td>\n",
       "      <td>3.0</td>\n",
       "      <td>8376.0</td>\n",
       "      <td>0.00</td>\n",
       "      <td>NaN</td>\n",
       "      <td>Play the classic strategy game Othello (also k...</td>\n",
       "      <td>Bayou Games</td>\n",
       "      <td>4+</td>\n",
       "      <td>EN</td>\n",
       "      <td>674816.0</td>\n",
       "      <td>Games</td>\n",
       "      <td>Games, Board, Strategy</td>\n",
       "      <td>11/07/2008</td>\n",
       "      <td>5/09/2017</td>\n",
       "    </tr>\n",
       "    <tr>\n",
       "      <td>3</td>\n",
       "      <td>https://apps.apple.com/us/app/sudoku-free/id28...</td>\n",
       "      <td>285755462</td>\n",
       "      <td>Sudoku (Free)</td>\n",
       "      <td>NaN</td>\n",
       "      <td>https://is3-ssl.mzstatic.com/image/thumb/Purpl...</td>\n",
       "      <td>3.5</td>\n",
       "      <td>190394.0</td>\n",
       "      <td>0.00</td>\n",
       "      <td>NaN</td>\n",
       "      <td>Top 100 free app for over a year.\\nRated \"Best...</td>\n",
       "      <td>Mighty Mighty Good Games</td>\n",
       "      <td>4+</td>\n",
       "      <td>DA, NL, EN, FI, FR, DE, IT, JA, KO, NB, PL, PT...</td>\n",
       "      <td>21552128.0</td>\n",
       "      <td>Games</td>\n",
       "      <td>Games, Strategy, Puzzle</td>\n",
       "      <td>23/07/2008</td>\n",
       "      <td>30/05/2017</td>\n",
       "    </tr>\n",
       "    <tr>\n",
       "      <td>4</td>\n",
       "      <td>https://apps.apple.com/us/app/senet-deluxe/id2...</td>\n",
       "      <td>285831220</td>\n",
       "      <td>Senet Deluxe</td>\n",
       "      <td>NaN</td>\n",
       "      <td>https://is1-ssl.mzstatic.com/image/thumb/Purpl...</td>\n",
       "      <td>3.5</td>\n",
       "      <td>28.0</td>\n",
       "      <td>2.99</td>\n",
       "      <td>NaN</td>\n",
       "      <td>\"Senet Deluxe - The Ancient Game of Life and A...</td>\n",
       "      <td>RoGame Software</td>\n",
       "      <td>4+</td>\n",
       "      <td>DA, NL, EN, FR, DE, EL, IT, JA, KO, NO, PT, RU...</td>\n",
       "      <td>34689024.0</td>\n",
       "      <td>Games</td>\n",
       "      <td>Games, Strategy, Board, Education</td>\n",
       "      <td>18/07/2008</td>\n",
       "      <td>22/07/2018</td>\n",
       "    </tr>\n",
       "  </tbody>\n",
       "</table>\n",
       "</div>"
      ],
      "text/plain": [
       "                                                 URL         ID  \\\n",
       "0   https://apps.apple.com/us/app/sudoku/id284921427  284921427   \n",
       "1  https://apps.apple.com/us/app/reversi/id284926400  284926400   \n",
       "2  https://apps.apple.com/us/app/morocco/id284946595  284946595   \n",
       "3  https://apps.apple.com/us/app/sudoku-free/id28...  285755462   \n",
       "4  https://apps.apple.com/us/app/senet-deluxe/id2...  285831220   \n",
       "\n",
       "            Name Subtitle                                           Icon URL  \\\n",
       "0         Sudoku      NaN  https://is2-ssl.mzstatic.com/image/thumb/Purpl...   \n",
       "1        Reversi      NaN  https://is4-ssl.mzstatic.com/image/thumb/Purpl...   \n",
       "2        Morocco      NaN  https://is5-ssl.mzstatic.com/image/thumb/Purpl...   \n",
       "3  Sudoku (Free)      NaN  https://is3-ssl.mzstatic.com/image/thumb/Purpl...   \n",
       "4   Senet Deluxe      NaN  https://is1-ssl.mzstatic.com/image/thumb/Purpl...   \n",
       "\n",
       "   Average User Rating  User Rating Count  Price In-app Purchases  \\\n",
       "0                  4.0             3553.0   2.99              NaN   \n",
       "1                  3.5              284.0   1.99              NaN   \n",
       "2                  3.0             8376.0   0.00              NaN   \n",
       "3                  3.5           190394.0   0.00              NaN   \n",
       "4                  3.5               28.0   2.99              NaN   \n",
       "\n",
       "                                         Description  \\\n",
       "0  Join over 21,000,000 of our fans and download ...   \n",
       "1  The classic game of Reversi, also known as Oth...   \n",
       "2  Play the classic strategy game Othello (also k...   \n",
       "3  Top 100 free app for over a year.\\nRated \"Best...   \n",
       "4  \"Senet Deluxe - The Ancient Game of Life and A...   \n",
       "\n",
       "                  Developer Age Rating  \\\n",
       "0  Mighty Mighty Good Games         4+   \n",
       "1          Kiss The Machine         4+   \n",
       "2               Bayou Games         4+   \n",
       "3  Mighty Mighty Good Games         4+   \n",
       "4           RoGame Software         4+   \n",
       "\n",
       "                                           Languages        Size  \\\n",
       "0  DA, NL, EN, FI, FR, DE, IT, JA, KO, NB, PL, PT...  15853568.0   \n",
       "1                                                 EN  12328960.0   \n",
       "2                                                 EN    674816.0   \n",
       "3  DA, NL, EN, FI, FR, DE, IT, JA, KO, NB, PL, PT...  21552128.0   \n",
       "4  DA, NL, EN, FR, DE, EL, IT, JA, KO, NO, PT, RU...  34689024.0   \n",
       "\n",
       "  Primary Genre                             Genres Original Release Date  \\\n",
       "0         Games            Games, Strategy, Puzzle            11/07/2008   \n",
       "1         Games             Games, Strategy, Board            11/07/2008   \n",
       "2         Games             Games, Board, Strategy            11/07/2008   \n",
       "3         Games            Games, Strategy, Puzzle            23/07/2008   \n",
       "4         Games  Games, Strategy, Board, Education            18/07/2008   \n",
       "\n",
       "  Current Version Release Date  \n",
       "0                   30/05/2017  \n",
       "1                   17/05/2018  \n",
       "2                    5/09/2017  \n",
       "3                   30/05/2017  \n",
       "4                   22/07/2018  "
      ]
     },
     "execution_count": 2,
     "metadata": {},
     "output_type": "execute_result"
    }
   ],
   "source": [
    "# Reads CSV file\n",
    "games = pd.read_csv(\"appstore_games.csv\")\n",
    "\n",
    "# Prints first five rows of DataFrame\n",
    "games.head()"
   ]
  },
  {
   "cell_type": "markdown",
   "metadata": {},
   "source": [
    "# 3. Data Processing\n",
    "This step of the data cycle focuses on cleaning or tidying the data to make it readable and prepare it for analysis. Our dataset contains 16 columns in total excluding URL and ID. We drop the Icon URL, URL, ID, Subtitle, Original Release data, and Current Version Release Date columns from the DataFrame because we are not going to use these values. We also standardize the 0 values in the Price column to 0.00 for future reference."
   ]
  },
  {
   "cell_type": "code",
   "execution_count": 3,
   "metadata": {
    "scrolled": true
   },
   "outputs": [
    {
     "data": {
      "text/html": [
       "<div>\n",
       "<style scoped>\n",
       "    .dataframe tbody tr th:only-of-type {\n",
       "        vertical-align: middle;\n",
       "    }\n",
       "\n",
       "    .dataframe tbody tr th {\n",
       "        vertical-align: top;\n",
       "    }\n",
       "\n",
       "    .dataframe thead th {\n",
       "        text-align: right;\n",
       "    }\n",
       "</style>\n",
       "<table border=\"1\" class=\"dataframe\">\n",
       "  <thead>\n",
       "    <tr style=\"text-align: right;\">\n",
       "      <th></th>\n",
       "      <th>Name</th>\n",
       "      <th>AverageUserRating</th>\n",
       "      <th>UserRatingCount</th>\n",
       "      <th>Price</th>\n",
       "      <th>InAppPurchases</th>\n",
       "      <th>Description</th>\n",
       "      <th>Developer</th>\n",
       "      <th>AgeRating</th>\n",
       "      <th>Languages</th>\n",
       "      <th>Size</th>\n",
       "      <th>PrimaryGenre</th>\n",
       "      <th>Genres</th>\n",
       "    </tr>\n",
       "  </thead>\n",
       "  <tbody>\n",
       "    <tr>\n",
       "      <td>0</td>\n",
       "      <td>Sudoku</td>\n",
       "      <td>4.0</td>\n",
       "      <td>3553.0</td>\n",
       "      <td>2.99</td>\n",
       "      <td>nan</td>\n",
       "      <td>Join over 21,000,000 of our fans and download ...</td>\n",
       "      <td>Mighty Mighty Good Games</td>\n",
       "      <td>4+</td>\n",
       "      <td>DA, NL, EN, FI, FR, DE, IT, JA, KO, NB, PL, PT...</td>\n",
       "      <td>15853568.0</td>\n",
       "      <td>Games</td>\n",
       "      <td>Games, Strategy, Puzzle</td>\n",
       "    </tr>\n",
       "    <tr>\n",
       "      <td>1</td>\n",
       "      <td>Reversi</td>\n",
       "      <td>3.5</td>\n",
       "      <td>284.0</td>\n",
       "      <td>1.99</td>\n",
       "      <td>nan</td>\n",
       "      <td>The classic game of Reversi, also known as Oth...</td>\n",
       "      <td>Kiss The Machine</td>\n",
       "      <td>4+</td>\n",
       "      <td>EN</td>\n",
       "      <td>12328960.0</td>\n",
       "      <td>Games</td>\n",
       "      <td>Games, Strategy, Board</td>\n",
       "    </tr>\n",
       "    <tr>\n",
       "      <td>2</td>\n",
       "      <td>Morocco</td>\n",
       "      <td>3.0</td>\n",
       "      <td>8376.0</td>\n",
       "      <td>0.00</td>\n",
       "      <td>nan</td>\n",
       "      <td>Play the classic strategy game Othello (also k...</td>\n",
       "      <td>Bayou Games</td>\n",
       "      <td>4+</td>\n",
       "      <td>EN</td>\n",
       "      <td>674816.0</td>\n",
       "      <td>Games</td>\n",
       "      <td>Games, Board, Strategy</td>\n",
       "    </tr>\n",
       "    <tr>\n",
       "      <td>3</td>\n",
       "      <td>Sudoku (Free)</td>\n",
       "      <td>3.5</td>\n",
       "      <td>190394.0</td>\n",
       "      <td>0.00</td>\n",
       "      <td>nan</td>\n",
       "      <td>Top 100 free app for over a year.\\nRated \"Best...</td>\n",
       "      <td>Mighty Mighty Good Games</td>\n",
       "      <td>4+</td>\n",
       "      <td>DA, NL, EN, FI, FR, DE, IT, JA, KO, NB, PL, PT...</td>\n",
       "      <td>21552128.0</td>\n",
       "      <td>Games</td>\n",
       "      <td>Games, Strategy, Puzzle</td>\n",
       "    </tr>\n",
       "    <tr>\n",
       "      <td>4</td>\n",
       "      <td>Senet Deluxe</td>\n",
       "      <td>3.5</td>\n",
       "      <td>28.0</td>\n",
       "      <td>2.99</td>\n",
       "      <td>nan</td>\n",
       "      <td>\"Senet Deluxe - The Ancient Game of Life and A...</td>\n",
       "      <td>RoGame Software</td>\n",
       "      <td>4+</td>\n",
       "      <td>DA, NL, EN, FR, DE, EL, IT, JA, KO, NO, PT, RU...</td>\n",
       "      <td>34689024.0</td>\n",
       "      <td>Games</td>\n",
       "      <td>Games, Strategy, Board, Education</td>\n",
       "    </tr>\n",
       "  </tbody>\n",
       "</table>\n",
       "</div>"
      ],
      "text/plain": [
       "            Name  AverageUserRating  UserRatingCount  Price InAppPurchases  \\\n",
       "0         Sudoku                4.0           3553.0   2.99            nan   \n",
       "1        Reversi                3.5            284.0   1.99            nan   \n",
       "2        Morocco                3.0           8376.0   0.00            nan   \n",
       "3  Sudoku (Free)                3.5         190394.0   0.00            nan   \n",
       "4   Senet Deluxe                3.5             28.0   2.99            nan   \n",
       "\n",
       "                                         Description  \\\n",
       "0  Join over 21,000,000 of our fans and download ...   \n",
       "1  The classic game of Reversi, also known as Oth...   \n",
       "2  Play the classic strategy game Othello (also k...   \n",
       "3  Top 100 free app for over a year.\\nRated \"Best...   \n",
       "4  \"Senet Deluxe - The Ancient Game of Life and A...   \n",
       "\n",
       "                  Developer AgeRating  \\\n",
       "0  Mighty Mighty Good Games        4+   \n",
       "1          Kiss The Machine        4+   \n",
       "2               Bayou Games        4+   \n",
       "3  Mighty Mighty Good Games        4+   \n",
       "4           RoGame Software        4+   \n",
       "\n",
       "                                           Languages        Size PrimaryGenre  \\\n",
       "0  DA, NL, EN, FI, FR, DE, IT, JA, KO, NB, PL, PT...  15853568.0        Games   \n",
       "1                                                 EN  12328960.0        Games   \n",
       "2                                                 EN    674816.0        Games   \n",
       "3  DA, NL, EN, FI, FR, DE, IT, JA, KO, NB, PL, PT...  21552128.0        Games   \n",
       "4  DA, NL, EN, FR, DE, EL, IT, JA, KO, NO, PT, RU...  34689024.0        Games   \n",
       "\n",
       "                              Genres  \n",
       "0            Games, Strategy, Puzzle  \n",
       "1             Games, Strategy, Board  \n",
       "2             Games, Board, Strategy  \n",
       "3            Games, Strategy, Puzzle  \n",
       "4  Games, Strategy, Board, Education  "
      ]
     },
     "execution_count": 3,
     "metadata": {},
     "output_type": "execute_result"
    }
   ],
   "source": [
    "# Drops unused columns\n",
    "games.drop(['Icon URL', 'URL','ID','Subtitle','Original Release Date','Current Version Release Date'], axis=1, inplace=True)\n",
    "\n",
    "# Renames columns to remove whitespace\n",
    "games = games.rename(columns = {'Average User Rating': 'AverageUserRating', 'User Rating Count': 'UserRatingCount', \\\n",
    "                                'In-app Purchases': 'InAppPurchases', 'Age Rating': 'AgeRating', \\\n",
    "                                'Primary Genre': 'PrimaryGenre'})\n",
    "\n",
    "# Standardizes 0 values\n",
    "games.loc[games['Price'] == 0, 'Price'] = 0.00\n",
    "games.loc[games['Price'] == 0.0, 'Price'] = 0.00\n",
    "\n",
    "# Changes type of the InAppPurchases column from object to string\n",
    "games[\"InAppPurchases\"] = games.InAppPurchases.astype(str)\n",
    "\n",
    "# Prints first five rows of DataFrame\n",
    "games.head()"
   ]
  },
  {
   "cell_type": "markdown",
   "metadata": {},
   "source": [
    "# 4. Exploratory Analysis and Data Visualization\n",
    "\n",
    "In this section, we start doing the actual data analysis. We mostly focus on finding the correlation between the cost of a game and its success rate. We have divided the games in four different categories: completely free games, free games with in-app purchases aka microtransactions, paid games without microtransactions, and paid games with microtransactions. In each part, we will analyze the ralation between these factors "
   ]
  },
  {
   "cell_type": "code",
   "execution_count": 4,
   "metadata": {},
   "outputs": [
    {
     "data": {
      "text/plain": [
       "<bound method Series.unique of 0        DA, NL, EN, FI, FR, DE, IT, JA, KO, NB, PL, PT...\n",
       "1                                                       EN\n",
       "2                                                       EN\n",
       "3        DA, NL, EN, FI, FR, DE, IT, JA, KO, NB, PL, PT...\n",
       "4        DA, NL, EN, FR, DE, EL, IT, JA, KO, NO, PT, RU...\n",
       "                               ...                        \n",
       "17002                                                   EN\n",
       "17003                                                   EN\n",
       "17004                                                   EN\n",
       "17005                                                   EN\n",
       "17006                                               EN, ZH\n",
       "Name: Languages, Length: 17007, dtype: object>"
      ]
     },
     "execution_count": 4,
     "metadata": {},
     "output_type": "execute_result"
    }
   ],
   "source": [
    "games['Languages'].unique"
   ]
  },
  {
   "cell_type": "code",
   "execution_count": 5,
   "metadata": {},
   "outputs": [
    {
     "data": {
      "text/plain": [
       "array(['nan', '1.99', '0.99', ...,\n",
       "       '0.99, 5.99, 12.99, 1.99, 79.99, 26.99',\n",
       "       '1.99, 9.99, 4.99, 2.99, 0.99', '9.99, 49.99, 3.99'], dtype=object)"
      ]
     },
     "execution_count": 5,
     "metadata": {},
     "output_type": "execute_result"
    }
   ],
   "source": [
    "#games['AgeRating'].unique()\n",
    "\n",
    "#sns.scatterplot(x='AgeRating', y='Price', data=games)\n",
    "\n",
    "#test = games[games['Price'] >= 100]\n",
    "#sns.scatterplot(x='Size', y='AverageUserRating', data=games)\n",
    "\n",
    "games['InAppPurchases'].unique()\n",
    "\n",
    "#games[games['Price'] >= 175]\n",
    "\n",
    "# for index, group in games.groupby('AgeRating'):\n",
    "#     print(index)\n",
    "#     sns.scatterplot(x='Price', y='AverageUserRating', data=group)\n",
    "#     plt.show()"
   ]
  },
  {
   "cell_type": "code",
   "execution_count": 12,
   "metadata": {},
   "outputs": [
    {
     "data": {
      "image/png": "[encoded data removed]",
      "text/plain": [
       "<Figure size 1440x720 with 1 Axes>"
      ]
     },
     "metadata": {
      "needs_background": "light"
     },
     "output_type": "display_data"
    }
   ],
   "source": [
    "# Price vs. Average User Rating\n",
    "ax = sns.catplot(x='Price', y='AverageUserRating', data=games, kind='boxen', height=10, aspect=2)\n",
    "plt.show()"
   ]
  },
  {
   "cell_type": "markdown",
   "metadata": {},
   "source": [
    "## Completely Free Games"
   ]
  },
  {
   "cell_type": "code",
   "execution_count": 6,
   "metadata": {},
   "outputs": [
    {
     "data": {
      "text/html": [
       "<div>\n",
       "<style scoped>\n",
       "    .dataframe tbody tr th:only-of-type {\n",
       "        vertical-align: middle;\n",
       "    }\n",
       "\n",
       "    .dataframe tbody tr th {\n",
       "        vertical-align: top;\n",
       "    }\n",
       "\n",
       "    .dataframe thead th {\n",
       "        text-align: right;\n",
       "    }\n",
       "</style>\n",
       "<table border=\"1\" class=\"dataframe\">\n",
       "  <thead>\n",
       "    <tr style=\"text-align: right;\">\n",
       "      <th></th>\n",
       "      <th>Name</th>\n",
       "      <th>AverageUserRating</th>\n",
       "      <th>UserRatingCount</th>\n",
       "      <th>Price</th>\n",
       "      <th>InAppPurchases</th>\n",
       "      <th>Description</th>\n",
       "      <th>Developer</th>\n",
       "      <th>AgeRating</th>\n",
       "      <th>Languages</th>\n",
       "      <th>Size</th>\n",
       "      <th>PrimaryGenre</th>\n",
       "      <th>Genres</th>\n",
       "    </tr>\n",
       "  </thead>\n",
       "  <tbody>\n",
       "    <tr>\n",
       "      <td>2</td>\n",
       "      <td>Morocco</td>\n",
       "      <td>3.0</td>\n",
       "      <td>8376.0</td>\n",
       "      <td>0.0</td>\n",
       "      <td>nan</td>\n",
       "      <td>Play the classic strategy game Othello (also k...</td>\n",
       "      <td>Bayou Games</td>\n",
       "      <td>4+</td>\n",
       "      <td>EN</td>\n",
       "      <td>674816.0</td>\n",
       "      <td>Games</td>\n",
       "      <td>Games, Board, Strategy</td>\n",
       "    </tr>\n",
       "    <tr>\n",
       "      <td>3</td>\n",
       "      <td>Sudoku (Free)</td>\n",
       "      <td>3.5</td>\n",
       "      <td>190394.0</td>\n",
       "      <td>0.0</td>\n",
       "      <td>nan</td>\n",
       "      <td>Top 100 free app for over a year.\\nRated \"Best...</td>\n",
       "      <td>Mighty Mighty Good Games</td>\n",
       "      <td>4+</td>\n",
       "      <td>DA, NL, EN, FI, FR, DE, IT, JA, KO, NB, PL, PT...</td>\n",
       "      <td>21552128.0</td>\n",
       "      <td>Games</td>\n",
       "      <td>Games, Strategy, Puzzle</td>\n",
       "    </tr>\n",
       "    <tr>\n",
       "      <td>6</td>\n",
       "      <td>Gravitation</td>\n",
       "      <td>2.5</td>\n",
       "      <td>35.0</td>\n",
       "      <td>0.0</td>\n",
       "      <td>nan</td>\n",
       "      <td>\"Gravitation is a new implementation of the pu...</td>\n",
       "      <td>Robert Farnum</td>\n",
       "      <td>4+</td>\n",
       "      <td>NaN</td>\n",
       "      <td>6328320.0</td>\n",
       "      <td>Games</td>\n",
       "      <td>Games, Entertainment, Puzzle, Strategy</td>\n",
       "    </tr>\n",
       "    <tr>\n",
       "      <td>8</td>\n",
       "      <td>Carte</td>\n",
       "      <td>2.5</td>\n",
       "      <td>44.0</td>\n",
       "      <td>0.0</td>\n",
       "      <td>nan</td>\n",
       "      <td>\"Jeu simple qui consiste \\xe0 trouver comment ...</td>\n",
       "      <td>Jean-Francois Pautex</td>\n",
       "      <td>4+</td>\n",
       "      <td>FR</td>\n",
       "      <td>2657280.0</td>\n",
       "      <td>Games</td>\n",
       "      <td>Games, Strategy, Board, Entertainment</td>\n",
       "    </tr>\n",
       "    <tr>\n",
       "      <td>9</td>\n",
       "      <td>\"Barrels O' Fun\"</td>\n",
       "      <td>2.5</td>\n",
       "      <td>184.0</td>\n",
       "      <td>0.0</td>\n",
       "      <td>nan</td>\n",
       "      <td>Barrels O\\u2019 Fun is a simple but challengin...</td>\n",
       "      <td>BesqWare</td>\n",
       "      <td>4+</td>\n",
       "      <td>EN</td>\n",
       "      <td>1466515.0</td>\n",
       "      <td>Games</td>\n",
       "      <td>Games, Casual, Strategy</td>\n",
       "    </tr>\n",
       "  </tbody>\n",
       "</table>\n",
       "</div>"
      ],
      "text/plain": [
       "               Name  AverageUserRating  UserRatingCount  Price InAppPurchases  \\\n",
       "2           Morocco                3.0           8376.0    0.0            nan   \n",
       "3     Sudoku (Free)                3.5         190394.0    0.0            nan   \n",
       "6       Gravitation                2.5             35.0    0.0            nan   \n",
       "8             Carte                2.5             44.0    0.0            nan   \n",
       "9  \"Barrels O' Fun\"                2.5            184.0    0.0            nan   \n",
       "\n",
       "                                         Description  \\\n",
       "2  Play the classic strategy game Othello (also k...   \n",
       "3  Top 100 free app for over a year.\\nRated \"Best...   \n",
       "6  \"Gravitation is a new implementation of the pu...   \n",
       "8  \"Jeu simple qui consiste \\xe0 trouver comment ...   \n",
       "9  Barrels O\\u2019 Fun is a simple but challengin...   \n",
       "\n",
       "                  Developer AgeRating  \\\n",
       "2               Bayou Games        4+   \n",
       "3  Mighty Mighty Good Games        4+   \n",
       "6             Robert Farnum        4+   \n",
       "8      Jean-Francois Pautex        4+   \n",
       "9                  BesqWare        4+   \n",
       "\n",
       "                                           Languages        Size PrimaryGenre  \\\n",
       "2                                                 EN    674816.0        Games   \n",
       "3  DA, NL, EN, FI, FR, DE, IT, JA, KO, NB, PL, PT...  21552128.0        Games   \n",
       "6                                                NaN   6328320.0        Games   \n",
       "8                                                 FR   2657280.0        Games   \n",
       "9                                                 EN   1466515.0        Games   \n",
       "\n",
       "                                   Genres  \n",
       "2                  Games, Board, Strategy  \n",
       "3                 Games, Strategy, Puzzle  \n",
       "6  Games, Entertainment, Puzzle, Strategy  \n",
       "8   Games, Strategy, Board, Entertainment  \n",
       "9                 Games, Casual, Strategy  "
      ]
     },
     "execution_count": 6,
     "metadata": {},
     "output_type": "execute_result"
    }
   ],
   "source": [
    "free_games = games.copy(deep=True)\n",
    "\n",
    "# Drops rows with paid games\n",
    "free_games = free_games[free_games.Price == 0.00]\n",
    "# Drops rows with in-app purchases\n",
    "free_games = free_games[free_games.InAppPurchases == 'nan']\n",
    "\n",
    "free_games.head()"
   ]
  },
  {
   "cell_type": "code",
   "execution_count": 7,
   "metadata": {
    "scrolled": true
   },
   "outputs": [
    {
     "data": {
      "text/plain": [
       "4.5    528\n",
       "4.0    462\n",
       "3.5    323\n",
       "5.0    319\n",
       "3.0    197\n",
       "2.5    144\n",
       "2.0     72\n",
       "1.5     24\n",
       "1.0      5\n",
       "Name: AverageUserRating, dtype: int64"
      ]
     },
     "execution_count": 7,
     "metadata": {},
     "output_type": "execute_result"
    }
   ],
   "source": [
    "#Counting how many free games have a particular average user rating\n",
    "free_games['AverageUserRating'].value_counts()"
   ]
  },
  {
   "cell_type": "markdown",
   "metadata": {},
   "source": [
    "## Free Games with In-App Purchases (aka microtransactions)"
   ]
  },
  {
   "cell_type": "code",
   "execution_count": null,
   "metadata": {},
   "outputs": [],
   "source": [
    "free_and_microtransactions = games.copy(deep=True)\n",
    "\n",
    "# Drops rows with paid games\n",
    "free_and_microtransactions = free_and_microtransactions[free_and_microtransactions.Price == 0.00]\n",
    "# Drops rows without in-app purchases\n",
    "free_and_microtransactions = free_and_microtransactions[free_and_microtransactions.InAppPurchases != 'nan']\n",
    "\n",
    "free_and_microtransactions.head()"
   ]
  },
  {
   "cell_type": "code",
   "execution_count": null,
   "metadata": {},
   "outputs": [],
   "source": [
    "#Counting how many free with microtransaction games have a particular average user rating\n",
    "free_and_microtransactions['AverageUserRating'].value_counts()"
   ]
  },
  {
   "cell_type": "markdown",
   "metadata": {},
   "source": [
    "## Paid Games without Microtransactions"
   ]
  },
  {
   "cell_type": "code",
   "execution_count": null,
   "metadata": {},
   "outputs": [],
   "source": [
    "paid_games = games.copy(deep=True)\n",
    "\n",
    "# Drops rows with free games\n",
    "paid_games = paid_games[paid_games.Price != 0.00]\n",
    "# Drops rows with in-app purchases\n",
    "paid_games = paid_games[paid_games.InAppPurchases == 'nan']\n",
    "\n",
    "paid_games.head()"
   ]
  },
  {
   "cell_type": "code",
   "execution_count": null,
   "metadata": {},
   "outputs": [],
   "source": [
    "#Counting how many paid games have a particular average user rating\n",
    "paid_games['AverageUserRating'].value_counts()"
   ]
  },
  {
   "cell_type": "markdown",
   "metadata": {},
   "source": [
    "## Paid Games with Microtransactions"
   ]
  },
  {
   "cell_type": "code",
   "execution_count": null,
   "metadata": {},
   "outputs": [],
   "source": [
    "paid_and_microtransactions = games.copy(deep=True)\n",
    "\n",
    "# Drops rows with free games\n",
    "paid_and_microtransactions = paid_and_microtransactions[paid_and_microtransactions.Price != 0.00]\n",
    "# Drops rows without in-app purchases\n",
    "paid_and_microtransactions = paid_and_microtransactions[paid_and_microtransactions.InAppPurchases != 'nan']\n",
    "\n",
    "paid_and_microtransactions.head()"
   ]
  },
  {
   "cell_type": "code",
   "execution_count": null,
   "metadata": {},
   "outputs": [],
   "source": [
    "#Counting how many paid games with microtransactions have a particular average user rating\n",
    "paid_and_microtransactions['AverageUserRating'].value_counts()"
   ]
  },
  {
   "cell_type": "markdown",
   "metadata": {},
   "source": [
    "## Combining the previous tables"
   ]
  },
  {
   "cell_type": "code",
   "execution_count": null,
   "metadata": {},
   "outputs": [],
   "source": [
    "#Concatinating all the previous tables together, adding an additional column to them to signify the original table\n",
    "combined = pd.concat([free_games.assign(Dataset='Free'), free_and_microtransactions.assign(Dataset='Free w/ Micro'),\\\n",
    "                     paid_games.assign(Dataset='Paid'), paid_and_microtransactions.assign(Dataset='Paid w/ Micro')])\n",
    "\n",
    "#Making a readable violinplot of average user rating, divided by their dataset category\n",
    "plt.figure(figsize=(15, 10))\n",
    "sns.set(font_scale=2)\n",
    "sns.violinplot(x=\"Dataset\", y=\"AverageUserRating\", data=combined, linewidth=4)#, hue='Dataset',s=100, palette='bright')\n",
    "plt.show()"
   ]
  },
  {
   "cell_type": "code",
   "execution_count": null,
   "metadata": {},
   "outputs": [],
   "source": [
    "filtered_genres = games.copy(deep=True)\n",
    "\n",
    "filtered_genres.Genres = games['Genres'].str.split(',').\\\n",
    "                    apply(lambda x: [s.strip() for s in x if s.strip() != 'Games' and s.strip() != 'Strategy'])\n",
    "\n",
    "filtered_genres.head()"
   ]
  },
  {
   "cell_type": "code",
   "execution_count": null,
   "metadata": {},
   "outputs": [],
   "source": [
    "#pd.melt(filtered_genres, id_vars='Name', value_vars='Genres')\n",
    "#filtered_genres.applymap(lambda x: x).plot.bar(rot=0, color=list('br')) DONT RUN THIS IT TAKES FOREVER AND GIVES NOTHING\n"
   ]
  },
  {
   "cell_type": "markdown",
   "metadata": {},
   "source": [
    "# 5. Analysis, Hypothesis Testing, and Machine Learning"
   ]
  },
  {
   "cell_type": "markdown",
   "metadata": {},
   "source": [
    "# 6. Insight and Policy Decision"
   ]
  },
  {
   "cell_type": "code",
   "execution_count": null,
   "metadata": {},
   "outputs": [],
   "source": []
  }
 ],
 "metadata": {
  "kernelspec": {
   "display_name": "Python 3",
   "language": "python",
   "name": "python3"
  },
  "language_info": {
   "codemirror_mode": {
    "name": "ipython",
    "version": 3
   },
   "file_extension": ".py",
   "mimetype": "text/x-python",
   "name": "python",
   "nbconvert_exporter": "python",
   "pygments_lexer": "ipython3",
   "version": "3.7.0"
  }
 },
 "nbformat": 4,
 "nbformat_minor": 2
}
